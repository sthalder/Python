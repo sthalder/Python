{
 "cells": [
  {
   "cell_type": "markdown",
   "metadata": {},
   "source": [
    "# Lab 12: Modeling\n",
    "\n",
    "This lab is meant to be short so you can experiment with multiple models, feature engineering methods, etc."
   ]
  },
  {
   "cell_type": "markdown",
   "metadata": {},
   "source": [
    "## #1\n",
    "\n",
    "Build a model using the flights data to predict departure delay. Remember to split your data, examine your data, select features, choose some models to try, train the models, and choose one (possibly based on scoring the models).\n",
    "- Be careful to avoid leakage! Make sure all of your features make sense as predictors.\n",
    "- Think: do you need a classification or regression model?\n",
    "    - Some regression models: Linear Regression, Lasso Regression, Decision Tree Regressor, Random Forest Regressor\n",
    "    - Some classification models: Gaussian Naive Bayes, Decision Tree Classifier, Random Forest Classifier\n",
    "- You will find that our features include some categorical variables. We did not spend much time on how to deal with categorical (non-numeric) variables in class. You may either A) drop these features or B) if you're feeling ambitious, look into a technique like one-hot encoding. Look at `sklearn.preprocessing.OneHotEncoder`, or the simpler `pd.get_dummies`.\n",
    "\n",
    "Note that you may not be able to build a very predictive model without substantial feature engineering.\n",
    "Consider why this might be so.\n",
    "Would supplemental data improve your model?"
   ]
  },
  {
   "cell_type": "code",
   "execution_count": 121,
   "metadata": {},
   "outputs": [],
   "source": [
    "import pandas as pd\n",
    "import numpy as np\n",
    "from sklearn.model_selection import train_test_split\n",
    "from sklearn.linear_model import LinearRegression\n",
    "from sklearn.linear_model import RidgeCV, LassoCV, Ridge, Lasso\n",
    "from matplotlib import pyplot as plt\n",
    "import warnings\n",
    "warnings.filterwarnings('ignore')"
   ]
  },
  {
   "cell_type": "code",
   "execution_count": 122,
   "metadata": {},
   "outputs": [],
   "source": [
    "flights = pd.read_csv('data/flights.csv')\n",
    "flights.dropna(inplace = True)"
   ]
  },
  {
   "cell_type": "code",
   "execution_count": 124,
   "metadata": {},
   "outputs": [
    {
     "data": {
      "text/plain": [
       "Index(['year', 'month', 'day', 'dep_time', 'sched_dep_time', 'dep_delay',\n",
       "       'arr_time', 'sched_arr_time', 'arr_delay', 'carrier', 'flight',\n",
       "       'tailnum', 'origin', 'dest', 'air_time', 'distance', 'hour', 'minute',\n",
       "       'time_hour'],\n",
       "      dtype='object')"
      ]
     },
     "execution_count": 124,
     "metadata": {},
     "output_type": "execute_result"
    }
   ],
   "source": [
    "flights.columns"
   ]
  },
  {
   "cell_type": "markdown",
   "metadata": {},
   "source": [
    "# The data will be split into train (70%) and test (30%)."
   ]
  },
  {
   "cell_type": "markdown",
   "metadata": {},
   "source": [
    "The predictor and target variables are created where the categorical variables are not selected."
   ]
  },
  {
   "cell_type": "code",
   "execution_count": 39,
   "metadata": {},
   "outputs": [
    {
     "name": "stdout",
     "output_type": "stream",
     "text": [
      "327346\n",
      "(229142, 13) (229142,)\n",
      "(98204, 13) (98204,)\n"
     ]
    }
   ],
   "source": [
    "# create training and testing vars\n",
    "X1 = flights[['year', 'month', 'day', 'dep_time', 'sched_dep_time',\n",
    "              'arr_time', 'sched_arr_time', 'arr_delay', 'flight',\n",
    "              'air_time', 'distance', 'hour', 'minute']]\n",
    "y1 = flights['dep_delay']\n",
    "\n",
    "X1_train, X1_test, y1_train, y1_test = train_test_split(X1, y1, test_size = 0.3, random_state = 8908)\n",
    "print(len(flights))\n",
    "print(X1_train.shape, y1_train.shape)\n",
    "print(X1_test.shape, y1_test.shape)"
   ]
  },
  {
   "cell_type": "markdown",
   "metadata": {},
   "source": [
    "# The response variable dep_delay is continuous and therefore we will build a regression model."
   ]
  },
  {
   "cell_type": "markdown",
   "metadata": {},
   "source": [
    "At first, all the numeric variables will be included as predictors to build a linear regression model."
   ]
  },
  {
   "cell_type": "code",
   "execution_count": 88,
   "metadata": {},
   "outputs": [
    {
     "data": {
      "text/plain": [
       "0.8765718887418317"
      ]
     },
     "execution_count": 88,
     "metadata": {},
     "output_type": "execute_result"
    }
   ],
   "source": [
    "# Linear Regression - all numeric variables\n",
    "\n",
    "from sklearn.linear_model import LinearRegression\n",
    "model1 = LinearRegression(fit_intercept = True)\n",
    "model1 = model1.fit(X1_train, y1_train)\n",
    "model1.score(X1_train, y1_train)"
   ]
  },
  {
   "cell_type": "code",
   "execution_count": 41,
   "metadata": {},
   "outputs": [
    {
     "name": "stdout",
     "output_type": "stream",
     "text": [
      "0.874760474338583\n"
     ]
    }
   ],
   "source": [
    "model1_test = model1.fit(X1_test, y1_test)\n",
    "pred1 = model1_test.predict(X1_test)\n",
    "print(model1_test.score(X1_test, y1_test))"
   ]
  },
  {
   "cell_type": "code",
   "execution_count": 42,
   "metadata": {},
   "outputs": [
    {
     "data": {
      "text/plain": [
       "Text(0, 0.5, 'Predictions')"
      ]
     },
     "execution_count": 42,
     "metadata": {},
     "output_type": "execute_result"
    },
    {
     "data": {
      "image/png": "[encoded data removed]",
      "text/plain": [
       "<Figure size 432x288 with 1 Axes>"
      ]
     },
     "metadata": {
      "needs_background": "light"
     },
     "output_type": "display_data"
    }
   ],
   "source": [
    "plt.scatter(y1_test, pred1)\n",
    "plt.xlabel('True Values')\n",
    "plt.ylabel('Predictions')"
   ]
  },
  {
   "cell_type": "markdown",
   "metadata": {},
   "source": [
    "Now, recursive feature elimination (RFE) will be used for feature selection."
   ]
  },
  {
   "cell_type": "code",
   "execution_count": 98,
   "metadata": {},
   "outputs": [
    {
     "name": "stdout",
     "output_type": "stream",
     "text": [
      "Optimum number of features: 11\n",
      "Score with 11 features: 0.874704\n"
     ]
    }
   ],
   "source": [
    "# Variable selection using RFE\n",
    "#no of features\n",
    "nof_list = np.arange(1,14)            \n",
    "high_score = 0\n",
    "#Variable to store the optimum features\n",
    "nof = 0           \n",
    "score_list =[]\n",
    "for n in range(len(nof_list)):\n",
    "    model = LinearRegression()\n",
    "    rfe = RFE(model,nof_list[n])\n",
    "    X_train_rfe = rfe.fit_transform(X1_train,y1_train)\n",
    "    X_test_rfe = rfe.transform(X1_test)\n",
    "    model.fit(X_train_rfe,y1_train)\n",
    "    score = model.score(X_test_rfe,y1_test)\n",
    "    score_list.append(score)\n",
    "    if(score>high_score):\n",
    "        high_score = score\n",
    "        nof = nof_list[n]\n",
    "print(\"Optimum number of features: %d\" %nof)\n",
    "print(\"Score with %d features: %f\" % (nof, high_score))"
   ]
  },
  {
   "cell_type": "markdown",
   "metadata": {},
   "source": [
    "It can be observed that instead of 13, the model can be built using 11 predictor variables without any significant change in test data performance."
   ]
  },
  {
   "cell_type": "code",
   "execution_count": 109,
   "metadata": {},
   "outputs": [
    {
     "name": "stdout",
     "output_type": "stream",
     "text": [
      "[False  True  True  True  True  True  True  True  True  True  True False\n",
      "  True]\n",
      "[3 1 1 1 1 1 1 1 1 1 1 2 1]\n"
     ]
    },
    {
     "data": {
      "text/plain": [
       "0.874703546986666"
      ]
     },
     "execution_count": 109,
     "metadata": {},
     "output_type": "execute_result"
    }
   ],
   "source": [
    "# Initializing RFE model\n",
    "model2 = LinearRegression()\n",
    "\n",
    "# Initializing RFE model\n",
    "modelrfe = RFE(model2, 11)\n",
    "\n",
    "# Transforming data using RFE\n",
    "X_rfe = modelrfe.fit_transform(X1_train, y1_train)\n",
    "model2.fit(X_rfe, y1_train)\n",
    "print(modelrfe.support_)\n",
    "print(modelrfe.ranking_)\n",
    "\n",
    "X_rfe_test = modelrfe.fit_transform(X1_test, y1_test)\n",
    "model2.score(X_rfe_test, y1_test)"
   ]
  },
  {
   "cell_type": "markdown",
   "metadata": {},
   "source": [
    "The 11 variables used in the model are displayed below."
   ]
  },
  {
   "cell_type": "code",
   "execution_count": 111,
   "metadata": {},
   "outputs": [
    {
     "name": "stdout",
     "output_type": "stream",
     "text": [
      "Index(['month', 'day', 'dep_time', 'sched_dep_time', 'arr_time',\n",
      "       'sched_arr_time', 'arr_delay', 'flight', 'air_time', 'distance',\n",
      "       'minute'],\n",
      "      dtype='object')\n"
     ]
    }
   ],
   "source": [
    "# Fitting the data to model\n",
    "# Fitting the data to model \n",
    "model2.fit(X_rfe, y1_train)\n",
    "cols = list(X1_train.columns)\n",
    "temp = pd.Series(modelrfe.support_, index = cols)\n",
    "selected_features_rfe = temp[temp == True].index\n",
    "print(selected_features_rfe)"
   ]
  },
  {
   "cell_type": "markdown",
   "metadata": {},
   "source": [
    "Let's use another variable selection method - LASSO and build the model."
   ]
  },
  {
   "cell_type": "code",
   "execution_count": 112,
   "metadata": {},
   "outputs": [
    {
     "name": "stdout",
     "output_type": "stream",
     "text": [
      "Best alpha using built-in LassoCV: 5.059781\n",
      "Best score using built-in LassoCV: 0.876107\n"
     ]
    }
   ],
   "source": [
    "# LASSO Regression\n",
    "reg = LassoCV()\n",
    "reg.fit(X1_train, y1_train)\n",
    "print(\"Best alpha using built-in LassoCV: %f\" % reg.alpha_)\n",
    "print(\"Best score using built-in LassoCV: %f\" %reg.score(X1_train,y1_train))\n",
    "coef = pd.Series(reg.coef_, index = X1_train.columns)"
   ]
  },
  {
   "cell_type": "code",
   "execution_count": 76,
   "metadata": {},
   "outputs": [
    {
     "name": "stdout",
     "output_type": "stream",
     "text": [
      "Lasso picked 8 variables and eliminated the other 5 variables\n"
     ]
    }
   ],
   "source": [
    "print(\"Lasso picked \" + str(sum(coef != 0)) + \" variables and eliminated the other \" +  str(sum(coef == 0)) + \" variables\")"
   ]
  },
  {
   "cell_type": "markdown",
   "metadata": {},
   "source": [
    "Here, it can be observed that LASSO selects only 8 variables and provides similar results as above."
   ]
  },
  {
   "cell_type": "code",
   "execution_count": 89,
   "metadata": {},
   "outputs": [
    {
     "data": {
      "image/png": "[encoded data removed]",
      "text/plain": [
       "<Figure size 576x720 with 1 Axes>"
      ]
     },
     "metadata": {
      "needs_background": "light"
     },
     "output_type": "display_data"
    }
   ],
   "source": [
    "imp_coef = coef.sort_values()\n",
    "import matplotlib\n",
    "matplotlib.rcParams['figure.figsize'] = (8.0, 10.0)\n",
    "imp_coef.plot(kind = \"barh\")\n",
    "plt.title(\"Feature importance using Lasso Model\");"
   ]
  },
  {
   "cell_type": "code",
   "execution_count": 113,
   "metadata": {},
   "outputs": [
    {
     "data": {
      "text/plain": [
       "0.8757248952497589"
      ]
     },
     "execution_count": 113,
     "metadata": {},
     "output_type": "execute_result"
    }
   ],
   "source": [
    "model3 = LinearRegression(fit_intercept = True)\n",
    "X1_train_las = X1_train[['arr_delay', 'distance', 'dep_time', 'sched_arr_time', 'flight', 'arr_time', 'sched_dep_time', 'air_time']].reset_index()\n",
    "X1_test_las = X1_test[['arr_delay', 'distance', 'dep_time', 'sched_arr_time', 'flight', 'arr_time', 'sched_dep_time', 'air_time']].reset_index()\n",
    "\n",
    "model3 = model3.fit(X1_train_las, y1_train)\n",
    "model3.score(X1_test_las, y1_test)"
   ]
  },
  {
   "cell_type": "markdown",
   "metadata": {},
   "source": [
    "Till now, only linear models were used. Now, a tree like model named Decision Tree will be built to predict the response."
   ]
  },
  {
   "cell_type": "code",
   "execution_count": 128,
   "metadata": {},
   "outputs": [
    {
     "data": {
      "text/plain": [
       "DecisionTreeRegressor(criterion='mse', max_depth=None, max_features=None,\n",
       "                      max_leaf_nodes=None, min_impurity_decrease=0.0,\n",
       "                      min_impurity_split=None, min_samples_leaf=1,\n",
       "                      min_samples_split=2, min_weight_fraction_leaf=0.0,\n",
       "                      presort=False, random_state=None, splitter='best')"
      ]
     },
     "execution_count": 128,
     "metadata": {},
     "output_type": "execute_result"
    }
   ],
   "source": [
    "# Decision Tree\n",
    "from sklearn.tree import DecisionTreeRegressor\n",
    "import seaborn as sns\n",
    "\n",
    "rt = DecisionTreeRegressor()\n",
    "regtree = rt.fit(X1_train, y1_train)\n",
    "regtree"
   ]
  },
  {
   "cell_type": "code",
   "execution_count": 129,
   "metadata": {},
   "outputs": [
    {
     "data": {
      "text/plain": [
       "0.9539950801817098"
      ]
     },
     "execution_count": 129,
     "metadata": {},
     "output_type": "execute_result"
    }
   ],
   "source": [
    "regtree.score(X1_test, y1_test)"
   ]
  }
 ],
 "metadata": {
  "kernelspec": {
   "display_name": "Python 3",
   "language": "python",
   "name": "python3"
  },
  "language_info": {
   "codemirror_mode": {
    "name": "ipython",
    "version": 3
   },
   "file_extension": ".py",
   "mimetype": "text/x-python",
   "name": "python",
   "nbconvert_exporter": "python",
   "pygments_lexer": "ipython3",
   "version": "3.7.3"
  }
 },
 "nbformat": 4,
 "nbformat_minor": 4
}
