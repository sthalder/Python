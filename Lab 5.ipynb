{
 "cells": [
  {
   "cell_type": "markdown",
   "metadata": {},
   "source": [
    "# Lab 06: Reshaping"
   ]
  },
  {
   "cell_type": "markdown",
   "metadata": {},
   "source": [
    "## #1\n",
    "Load in the flights data that we've used before."
   ]
  },
  {
   "cell_type": "code",
   "execution_count": 1,
   "metadata": {},
   "outputs": [],
   "source": [
    "import pandas as pd"
   ]
  },
  {
   "cell_type": "code",
   "execution_count": 46,
   "metadata": {},
   "outputs": [],
   "source": [
    "flights = pd.read_csv('data/flights.csv')"
   ]
  },
  {
   "cell_type": "markdown",
   "metadata": {},
   "source": [
    "## #2\n",
    "Using a pivot table, find the median flight time to go from each origin to each destination.\n",
    "Save that resulting pivot table in a variable called \"pivoted_df\"."
   ]
  },
  {
   "cell_type": "code",
   "execution_count": 47,
   "metadata": {},
   "outputs": [
    {
     "name": "stdout",
     "output_type": "stream",
     "text": [
      "origin    EWR    JFK    LGA\n",
      "dest                       \n",
      "ABQ       NaN  246.0    NaN\n",
      "ACK       NaN   41.0    NaN\n",
      "ALB      31.0    NaN    NaN\n",
      "ANC     414.5    NaN    NaN\n",
      "ATL     111.0  111.0  112.0\n",
      "AUS     210.0  212.0    NaN\n",
      "AVL      89.0    NaN   91.5\n",
      "BDL      25.0    NaN    NaN\n",
      "BGR       NaN    NaN   54.0\n",
      "BHM       NaN  117.0  121.0\n",
      "BNA     113.0  116.0  112.0\n",
      "BOS      40.0   38.0   37.0\n",
      "BQN     196.0  194.0    NaN\n",
      "BTV      46.0   47.0   42.0\n",
      "BUF      51.0   57.0   50.0\n",
      "BUR       NaN  334.0    NaN\n",
      "BWI      37.0   38.0   40.0\n",
      "BZN     256.0    NaN    NaN\n",
      "CAE      90.0    NaN   99.5\n",
      "CAK       NaN    NaN   63.0\n",
      "CHO       NaN    NaN   50.0\n",
      "CHS      94.0   94.0   91.0\n",
      "CLE      66.0   76.5   69.0\n",
      "CLT      83.0   86.0   85.0\n",
      "CMH      75.0   76.0   77.0\n",
      "CRW       NaN    NaN   74.0\n",
      "CVG      95.0   95.0   93.0\n",
      "DAY      85.0    NaN   84.0\n",
      "DCA      42.0   48.0   44.0\n",
      "DEN     224.0  227.0  227.0\n",
      "...       ...    ...    ...\n",
      "PIT      56.0   66.0   57.0\n",
      "PSE       NaN  201.0    NaN\n",
      "PSP       NaN  330.5    NaN\n",
      "PVD      32.0    NaN    NaN\n",
      "PWM      48.0   48.0   44.0\n",
      "RDU      69.0   71.0   70.0\n",
      "RIC      53.0   56.0   54.0\n",
      "ROC      45.0   51.0   45.0\n",
      "RSW     155.0  159.0  159.0\n",
      "SAN     325.0  325.0    NaN\n",
      "SAT     219.0  216.5    NaN\n",
      "SAV     106.0    NaN  102.0\n",
      "SBN      93.0    NaN   94.5\n",
      "SDF     105.0  103.0  105.0\n",
      "SEA     325.0  328.0    NaN\n",
      "SFO     342.0  347.0    NaN\n",
      "SJC       NaN  347.0    NaN\n",
      "SJU     200.0  196.0    NaN\n",
      "SLC     271.0  274.0    NaN\n",
      "SMF       NaN  337.0    NaN\n",
      "SNA     329.0    NaN    NaN\n",
      "SRQ       NaN  151.0  150.0\n",
      "STL     133.0  129.0  132.0\n",
      "STT     205.0  202.0    NaN\n",
      "SYR      39.0   44.0   38.0\n",
      "TPA     142.0  143.0  144.0\n",
      "TUL     176.0    NaN    NaN\n",
      "TVC      95.0    NaN   93.0\n",
      "TYS      96.0    NaN   96.0\n",
      "XNA     165.0    NaN  171.0\n",
      "\n",
      "[104 rows x 3 columns]\n"
     ]
    }
   ],
   "source": [
    "pivoted_df = flights.pivot_table(columns = 'origin',\n",
    "                                index = 'dest',\n",
    "                                values = 'air_time',\n",
    "                                aggfunc = 'median')\n",
    "print(pivoted_df)"
   ]
  },
  {
   "cell_type": "markdown",
   "metadata": {},
   "source": [
    "## #3\n",
    "Experiment with the `.dropna` method -- consult its documentation using the `?`.\n",
    "Use it to drop destinations in your result from #2 where at least one value is `NaN`.\n",
    "Store this \"cleaned\" DataFrame in a variable called \"clean_df\".\n",
    "- destinations may be either rows or columns depending on how you did #2"
   ]
  },
  {
   "cell_type": "code",
   "execution_count": 48,
   "metadata": {},
   "outputs": [],
   "source": [
    "pivoted_df_na = pivoted_df.dropna(how = 'any', axis = 0)"
   ]
  },
  {
   "cell_type": "code",
   "execution_count": 34,
   "metadata": {},
   "outputs": [
    {
     "data": {
      "text/plain": [
       "(42, 3)"
      ]
     },
     "execution_count": 34,
     "metadata": {},
     "output_type": "execute_result"
    }
   ],
   "source": [
    "pivoted_df_na.shape"
   ]
  },
  {
   "cell_type": "markdown",
   "metadata": {},
   "source": [
    "## #4\n",
    "Using your result from #3, extract the destination airport codes as a list.\n",
    "What is the context of these airport codes?\n",
    "i.e. When might it be helpful to have prepared a list of these airport codes?"
   ]
  },
  {
   "cell_type": "code",
   "execution_count": 25,
   "metadata": {},
   "outputs": [
    {
     "data": {
      "text/html": [
       "<div>\n",
       "<style scoped>\n",
       "    .dataframe tbody tr th:only-of-type {\n",
       "        vertical-align: middle;\n",
       "    }\n",
       "\n",
       "    .dataframe tbody tr th {\n",
       "        vertical-align: top;\n",
       "    }\n",
       "\n",
       "    .dataframe thead th {\n",
       "        text-align: right;\n",
       "    }\n",
       "</style>\n",
       "<table border=\"1\" class=\"dataframe\">\n",
       "  <thead>\n",
       "    <tr style=\"text-align: right;\">\n",
       "      <th>origin</th>\n",
       "      <th>EWR</th>\n",
       "      <th>JFK</th>\n",
       "      <th>LGA</th>\n",
       "    </tr>\n",
       "    <tr>\n",
       "      <th>dest</th>\n",
       "      <th></th>\n",
       "      <th></th>\n",
       "      <th></th>\n",
       "    </tr>\n",
       "  </thead>\n",
       "  <tbody>\n",
       "    <tr>\n",
       "      <th>ATL</th>\n",
       "      <td>111.0</td>\n",
       "      <td>111.0</td>\n",
       "      <td>112.0</td>\n",
       "    </tr>\n",
       "    <tr>\n",
       "      <th>BNA</th>\n",
       "      <td>113.0</td>\n",
       "      <td>116.0</td>\n",
       "      <td>112.0</td>\n",
       "    </tr>\n",
       "    <tr>\n",
       "      <th>BOS</th>\n",
       "      <td>40.0</td>\n",
       "      <td>38.0</td>\n",
       "      <td>37.0</td>\n",
       "    </tr>\n",
       "    <tr>\n",
       "      <th>BTV</th>\n",
       "      <td>46.0</td>\n",
       "      <td>47.0</td>\n",
       "      <td>42.0</td>\n",
       "    </tr>\n",
       "    <tr>\n",
       "      <th>BUF</th>\n",
       "      <td>51.0</td>\n",
       "      <td>57.0</td>\n",
       "      <td>50.0</td>\n",
       "    </tr>\n",
       "  </tbody>\n",
       "</table>\n",
       "</div>"
      ],
      "text/plain": [
       "origin    EWR    JFK    LGA\n",
       "dest                       \n",
       "ATL     111.0  111.0  112.0\n",
       "BNA     113.0  116.0  112.0\n",
       "BOS      40.0   38.0   37.0\n",
       "BTV      46.0   47.0   42.0\n",
       "BUF      51.0   57.0   50.0"
      ]
     },
     "execution_count": 25,
     "metadata": {},
     "output_type": "execute_result"
    }
   ],
   "source": [
    "pivoted_df_na.head()"
   ]
  },
  {
   "cell_type": "code",
   "execution_count": 27,
   "metadata": {},
   "outputs": [
    {
     "data": {
      "text/plain": [
       "['ATL',\n",
       " 'BNA',\n",
       " 'BOS',\n",
       " 'BTV',\n",
       " 'BUF',\n",
       " 'BWI',\n",
       " 'CHS',\n",
       " 'CLE',\n",
       " 'CLT',\n",
       " 'CMH',\n",
       " 'CVG',\n",
       " 'DCA',\n",
       " 'DEN',\n",
       " 'DFW',\n",
       " 'DTW',\n",
       " 'FLL',\n",
       " 'HOU',\n",
       " 'IAD',\n",
       " 'IAH',\n",
       " 'IND',\n",
       " 'JAX',\n",
       " 'MCI',\n",
       " 'MCO',\n",
       " 'MEM',\n",
       " 'MIA',\n",
       " 'MKE',\n",
       " 'MSP',\n",
       " 'MSY',\n",
       " 'ORD',\n",
       " 'ORF',\n",
       " 'PBI',\n",
       " 'PHL',\n",
       " 'PIT',\n",
       " 'PWM',\n",
       " 'RDU',\n",
       " 'RIC',\n",
       " 'ROC',\n",
       " 'RSW',\n",
       " 'SDF',\n",
       " 'STL',\n",
       " 'SYR',\n",
       " 'TPA']"
      ]
     },
     "execution_count": 27,
     "metadata": {},
     "output_type": "execute_result"
    }
   ],
   "source": [
    "pivoted_df_na = pivoted_df_na.reset_index()\n",
    "pivoted_df_na.columns\n",
    "dest_list = pivoted_df_na['dest'].values.tolist()\n",
    "dest_list"
   ]
  },
  {
   "cell_type": "code",
   "execution_count": 29,
   "metadata": {},
   "outputs": [
    {
     "data": {
      "text/plain": [
       "list"
      ]
     },
     "execution_count": 29,
     "metadata": {},
     "output_type": "execute_result"
    }
   ],
   "source": [
    "type(dest_list)"
   ]
  },
  {
   "cell_type": "markdown",
   "metadata": {},
   "source": [
    "## #5\n",
    "Reload the planes data that we've used before."
   ]
  },
  {
   "cell_type": "code",
   "execution_count": 35,
   "metadata": {},
   "outputs": [],
   "source": [
    "planes = pd.read_csv('data/planes.csv')"
   ]
  },
  {
   "cell_type": "markdown",
   "metadata": {},
   "source": [
    "## #6\n",
    "Melt this data, using all columns except tailnum as your value variables.\n",
    "Use tailnum as your identifier.\n",
    "Store the result as \"melted_df\"."
   ]
  },
  {
   "cell_type": "code",
   "execution_count": 23,
   "metadata": {},
   "outputs": [
    {
     "data": {
      "text/html": [
       "<div>\n",
       "<style scoped>\n",
       "    .dataframe tbody tr th:only-of-type {\n",
       "        vertical-align: middle;\n",
       "    }\n",
       "\n",
       "    .dataframe tbody tr th {\n",
       "        vertical-align: top;\n",
       "    }\n",
       "\n",
       "    .dataframe thead th {\n",
       "        text-align: right;\n",
       "    }\n",
       "</style>\n",
       "<table border=\"1\" class=\"dataframe\">\n",
       "  <thead>\n",
       "    <tr style=\"text-align: right;\">\n",
       "      <th></th>\n",
       "      <th>tailnum</th>\n",
       "      <th>year</th>\n",
       "      <th>type</th>\n",
       "      <th>manufacturer</th>\n",
       "      <th>model</th>\n",
       "      <th>engines</th>\n",
       "      <th>seats</th>\n",
       "      <th>speed</th>\n",
       "      <th>engine</th>\n",
       "    </tr>\n",
       "  </thead>\n",
       "  <tbody>\n",
       "    <tr>\n",
       "      <th>0</th>\n",
       "      <td>N10156</td>\n",
       "      <td>2004.0</td>\n",
       "      <td>Fixed wing multi engine</td>\n",
       "      <td>EMBRAER</td>\n",
       "      <td>EMB-145XR</td>\n",
       "      <td>2</td>\n",
       "      <td>55</td>\n",
       "      <td>NaN</td>\n",
       "      <td>Turbo-fan</td>\n",
       "    </tr>\n",
       "    <tr>\n",
       "      <th>1</th>\n",
       "      <td>N102UW</td>\n",
       "      <td>1998.0</td>\n",
       "      <td>Fixed wing multi engine</td>\n",
       "      <td>AIRBUS INDUSTRIE</td>\n",
       "      <td>A320-214</td>\n",
       "      <td>2</td>\n",
       "      <td>182</td>\n",
       "      <td>NaN</td>\n",
       "      <td>Turbo-fan</td>\n",
       "    </tr>\n",
       "    <tr>\n",
       "      <th>2</th>\n",
       "      <td>N103US</td>\n",
       "      <td>1999.0</td>\n",
       "      <td>Fixed wing multi engine</td>\n",
       "      <td>AIRBUS INDUSTRIE</td>\n",
       "      <td>A320-214</td>\n",
       "      <td>2</td>\n",
       "      <td>182</td>\n",
       "      <td>NaN</td>\n",
       "      <td>Turbo-fan</td>\n",
       "    </tr>\n",
       "    <tr>\n",
       "      <th>3</th>\n",
       "      <td>N104UW</td>\n",
       "      <td>1999.0</td>\n",
       "      <td>Fixed wing multi engine</td>\n",
       "      <td>AIRBUS INDUSTRIE</td>\n",
       "      <td>A320-214</td>\n",
       "      <td>2</td>\n",
       "      <td>182</td>\n",
       "      <td>NaN</td>\n",
       "      <td>Turbo-fan</td>\n",
       "    </tr>\n",
       "    <tr>\n",
       "      <th>4</th>\n",
       "      <td>N10575</td>\n",
       "      <td>2002.0</td>\n",
       "      <td>Fixed wing multi engine</td>\n",
       "      <td>EMBRAER</td>\n",
       "      <td>EMB-145LR</td>\n",
       "      <td>2</td>\n",
       "      <td>55</td>\n",
       "      <td>NaN</td>\n",
       "      <td>Turbo-fan</td>\n",
       "    </tr>\n",
       "  </tbody>\n",
       "</table>\n",
       "</div>"
      ],
      "text/plain": [
       "  tailnum    year                     type      manufacturer      model  \\\n",
       "0  N10156  2004.0  Fixed wing multi engine           EMBRAER  EMB-145XR   \n",
       "1  N102UW  1998.0  Fixed wing multi engine  AIRBUS INDUSTRIE   A320-214   \n",
       "2  N103US  1999.0  Fixed wing multi engine  AIRBUS INDUSTRIE   A320-214   \n",
       "3  N104UW  1999.0  Fixed wing multi engine  AIRBUS INDUSTRIE   A320-214   \n",
       "4  N10575  2002.0  Fixed wing multi engine           EMBRAER  EMB-145LR   \n",
       "\n",
       "   engines  seats  speed     engine  \n",
       "0        2     55    NaN  Turbo-fan  \n",
       "1        2    182    NaN  Turbo-fan  \n",
       "2        2    182    NaN  Turbo-fan  \n",
       "3        2    182    NaN  Turbo-fan  \n",
       "4        2     55    NaN  Turbo-fan  "
      ]
     },
     "execution_count": 23,
     "metadata": {},
     "output_type": "execute_result"
    }
   ],
   "source": [
    "planes.head()"
   ]
  },
  {
   "cell_type": "code",
   "execution_count": 39,
   "metadata": {},
   "outputs": [],
   "source": [
    "melted_df = planes.melt(id_vars = ['tailnum'],\n",
    "                       value_vars = ['year', 'type', 'manufacturer', 'model', 'engines', 'seats','speed', 'engine'])"
   ]
  },
  {
   "cell_type": "code",
   "execution_count": 38,
   "metadata": {},
   "outputs": [
    {
     "data": {
      "text/html": [
       "<div>\n",
       "<style scoped>\n",
       "    .dataframe tbody tr th:only-of-type {\n",
       "        vertical-align: middle;\n",
       "    }\n",
       "\n",
       "    .dataframe tbody tr th {\n",
       "        vertical-align: top;\n",
       "    }\n",
       "\n",
       "    .dataframe thead th {\n",
       "        text-align: right;\n",
       "    }\n",
       "</style>\n",
       "<table border=\"1\" class=\"dataframe\">\n",
       "  <thead>\n",
       "    <tr style=\"text-align: right;\">\n",
       "      <th></th>\n",
       "      <th>tailnum</th>\n",
       "      <th>variable</th>\n",
       "      <th>value</th>\n",
       "    </tr>\n",
       "  </thead>\n",
       "  <tbody>\n",
       "    <tr>\n",
       "      <th>0</th>\n",
       "      <td>N10156</td>\n",
       "      <td>year</td>\n",
       "      <td>2004</td>\n",
       "    </tr>\n",
       "    <tr>\n",
       "      <th>1</th>\n",
       "      <td>N102UW</td>\n",
       "      <td>year</td>\n",
       "      <td>1998</td>\n",
       "    </tr>\n",
       "    <tr>\n",
       "      <th>2</th>\n",
       "      <td>N103US</td>\n",
       "      <td>year</td>\n",
       "      <td>1999</td>\n",
       "    </tr>\n",
       "    <tr>\n",
       "      <th>3</th>\n",
       "      <td>N104UW</td>\n",
       "      <td>year</td>\n",
       "      <td>1999</td>\n",
       "    </tr>\n",
       "    <tr>\n",
       "      <th>4</th>\n",
       "      <td>N10575</td>\n",
       "      <td>year</td>\n",
       "      <td>2002</td>\n",
       "    </tr>\n",
       "  </tbody>\n",
       "</table>\n",
       "</div>"
      ],
      "text/plain": [
       "  tailnum variable value\n",
       "0  N10156     year  2004\n",
       "1  N102UW     year  1998\n",
       "2  N103US     year  1999\n",
       "3  N104UW     year  1999\n",
       "4  N10575     year  2002"
      ]
     },
     "execution_count": 38,
     "metadata": {},
     "output_type": "execute_result"
    }
   ],
   "source": [
    "melted_df.head()"
   ]
  },
  {
   "cell_type": "markdown",
   "metadata": {},
   "source": [
    "## #7\n",
    "Use the .pivot method to \"widen\" the data from #6 and put it back in the form it started in."
   ]
  },
  {
   "cell_type": "code",
   "execution_count": 44,
   "metadata": {},
   "outputs": [
    {
     "data": {
      "text/html": [
       "<div>\n",
       "<style scoped>\n",
       "    .dataframe tbody tr th:only-of-type {\n",
       "        vertical-align: middle;\n",
       "    }\n",
       "\n",
       "    .dataframe tbody tr th {\n",
       "        vertical-align: top;\n",
       "    }\n",
       "\n",
       "    .dataframe thead th {\n",
       "        text-align: right;\n",
       "    }\n",
       "</style>\n",
       "<table border=\"1\" class=\"dataframe\">\n",
       "  <thead>\n",
       "    <tr style=\"text-align: right;\">\n",
       "      <th>variable</th>\n",
       "      <th>engine</th>\n",
       "      <th>engines</th>\n",
       "      <th>manufacturer</th>\n",
       "      <th>model</th>\n",
       "      <th>seats</th>\n",
       "      <th>speed</th>\n",
       "      <th>type</th>\n",
       "      <th>year</th>\n",
       "    </tr>\n",
       "    <tr>\n",
       "      <th>tailnum</th>\n",
       "      <th></th>\n",
       "      <th></th>\n",
       "      <th></th>\n",
       "      <th></th>\n",
       "      <th></th>\n",
       "      <th></th>\n",
       "      <th></th>\n",
       "      <th></th>\n",
       "    </tr>\n",
       "  </thead>\n",
       "  <tbody>\n",
       "    <tr>\n",
       "      <th>N10156</th>\n",
       "      <td>Turbo-fan</td>\n",
       "      <td>2</td>\n",
       "      <td>EMBRAER</td>\n",
       "      <td>EMB-145XR</td>\n",
       "      <td>55</td>\n",
       "      <td>NaN</td>\n",
       "      <td>Fixed wing multi engine</td>\n",
       "      <td>2004</td>\n",
       "    </tr>\n",
       "    <tr>\n",
       "      <th>N102UW</th>\n",
       "      <td>Turbo-fan</td>\n",
       "      <td>2</td>\n",
       "      <td>AIRBUS INDUSTRIE</td>\n",
       "      <td>A320-214</td>\n",
       "      <td>182</td>\n",
       "      <td>NaN</td>\n",
       "      <td>Fixed wing multi engine</td>\n",
       "      <td>1998</td>\n",
       "    </tr>\n",
       "    <tr>\n",
       "      <th>N103US</th>\n",
       "      <td>Turbo-fan</td>\n",
       "      <td>2</td>\n",
       "      <td>AIRBUS INDUSTRIE</td>\n",
       "      <td>A320-214</td>\n",
       "      <td>182</td>\n",
       "      <td>NaN</td>\n",
       "      <td>Fixed wing multi engine</td>\n",
       "      <td>1999</td>\n",
       "    </tr>\n",
       "    <tr>\n",
       "      <th>N104UW</th>\n",
       "      <td>Turbo-fan</td>\n",
       "      <td>2</td>\n",
       "      <td>AIRBUS INDUSTRIE</td>\n",
       "      <td>A320-214</td>\n",
       "      <td>182</td>\n",
       "      <td>NaN</td>\n",
       "      <td>Fixed wing multi engine</td>\n",
       "      <td>1999</td>\n",
       "    </tr>\n",
       "    <tr>\n",
       "      <th>N10575</th>\n",
       "      <td>Turbo-fan</td>\n",
       "      <td>2</td>\n",
       "      <td>EMBRAER</td>\n",
       "      <td>EMB-145LR</td>\n",
       "      <td>55</td>\n",
       "      <td>NaN</td>\n",
       "      <td>Fixed wing multi engine</td>\n",
       "      <td>2002</td>\n",
       "    </tr>\n",
       "  </tbody>\n",
       "</table>\n",
       "</div>"
      ],
      "text/plain": [
       "variable     engine engines      manufacturer      model seats speed  \\\n",
       "tailnum                                                                \n",
       "N10156    Turbo-fan       2           EMBRAER  EMB-145XR    55   NaN   \n",
       "N102UW    Turbo-fan       2  AIRBUS INDUSTRIE   A320-214   182   NaN   \n",
       "N103US    Turbo-fan       2  AIRBUS INDUSTRIE   A320-214   182   NaN   \n",
       "N104UW    Turbo-fan       2  AIRBUS INDUSTRIE   A320-214   182   NaN   \n",
       "N10575    Turbo-fan       2           EMBRAER  EMB-145LR    55   NaN   \n",
       "\n",
       "variable                     type  year  \n",
       "tailnum                                  \n",
       "N10156    Fixed wing multi engine  2004  \n",
       "N102UW    Fixed wing multi engine  1998  \n",
       "N103US    Fixed wing multi engine  1999  \n",
       "N104UW    Fixed wing multi engine  1999  \n",
       "N10575    Fixed wing multi engine  2002  "
      ]
     },
     "execution_count": 44,
     "metadata": {},
     "output_type": "execute_result"
    }
   ],
   "source": [
    "widen_df = melted_df.pivot(index = 'tailnum', \n",
    "                           columns = 'variable',\n",
    "                           values = 'value')\n",
    "widen_df.head()"
   ]
  },
  {
   "cell_type": "markdown",
   "metadata": {},
   "source": [
    "#### Challenge Questions\n",
    "1. Using your result from #3 again, run the following code:\n",
    "    - If your row labels (index) are **origin** airport: `clean_df.reset_index().melt(id_vars='origin', value_name='air_time').dropna()`\n",
    "    - If your row labels are **dest**ination airport: `clean_df.reset_index().melt(id_vars='dest', value_name='air_time').dropna()`\n",
    "\n",
    "2. Can you replicate the values in this resulting DataFrame using the original flights data and and performing a groupby and aggregate?\n",
    "    - *Hint: passing `as_index=False` to `.groupby` will keep pandas from moving your grouping columns into the index, making your result look more like the data from #1.*\n",
    "\n",
    "3. Do you have any intuition as to why this works?"
   ]
  },
  {
   "cell_type": "code",
   "execution_count": 53,
   "metadata": {},
   "outputs": [
    {
     "data": {
      "text/html": [
       "<div>\n",
       "<style scoped>\n",
       "    .dataframe tbody tr th:only-of-type {\n",
       "        vertical-align: middle;\n",
       "    }\n",
       "\n",
       "    .dataframe tbody tr th {\n",
       "        vertical-align: top;\n",
       "    }\n",
       "\n",
       "    .dataframe thead th {\n",
       "        text-align: right;\n",
       "    }\n",
       "</style>\n",
       "<table border=\"1\" class=\"dataframe\">\n",
       "  <thead>\n",
       "    <tr style=\"text-align: right;\">\n",
       "      <th></th>\n",
       "      <th>dest</th>\n",
       "      <th>origin</th>\n",
       "      <th>air_time</th>\n",
       "    </tr>\n",
       "  </thead>\n",
       "  <tbody>\n",
       "    <tr>\n",
       "      <th>0</th>\n",
       "      <td>ATL</td>\n",
       "      <td>EWR</td>\n",
       "      <td>111.0</td>\n",
       "    </tr>\n",
       "    <tr>\n",
       "      <th>1</th>\n",
       "      <td>BNA</td>\n",
       "      <td>EWR</td>\n",
       "      <td>113.0</td>\n",
       "    </tr>\n",
       "    <tr>\n",
       "      <th>2</th>\n",
       "      <td>BOS</td>\n",
       "      <td>EWR</td>\n",
       "      <td>40.0</td>\n",
       "    </tr>\n",
       "    <tr>\n",
       "      <th>3</th>\n",
       "      <td>BTV</td>\n",
       "      <td>EWR</td>\n",
       "      <td>46.0</td>\n",
       "    </tr>\n",
       "    <tr>\n",
       "      <th>4</th>\n",
       "      <td>BUF</td>\n",
       "      <td>EWR</td>\n",
       "      <td>51.0</td>\n",
       "    </tr>\n",
       "  </tbody>\n",
       "</table>\n",
       "</div>"
      ],
      "text/plain": [
       "  dest origin  air_time\n",
       "0  ATL    EWR     111.0\n",
       "1  BNA    EWR     113.0\n",
       "2  BOS    EWR      40.0\n",
       "3  BTV    EWR      46.0\n",
       "4  BUF    EWR      51.0"
      ]
     },
     "execution_count": 53,
     "metadata": {},
     "output_type": "execute_result"
    }
   ],
   "source": [
    "pivoted_df_na.reset_index().melt(id_vars='dest', value_name='air_time').dropna().head()"
   ]
  },
  {
   "cell_type": "code",
   "execution_count": 55,
   "metadata": {},
   "outputs": [
    {
     "data": {
      "text/html": [
       "<div>\n",
       "<style scoped>\n",
       "    .dataframe tbody tr th:only-of-type {\n",
       "        vertical-align: middle;\n",
       "    }\n",
       "\n",
       "    .dataframe tbody tr th {\n",
       "        vertical-align: top;\n",
       "    }\n",
       "\n",
       "    .dataframe thead tr th {\n",
       "        text-align: left;\n",
       "    }\n",
       "</style>\n",
       "<table border=\"1\" class=\"dataframe\">\n",
       "  <thead>\n",
       "    <tr>\n",
       "      <th></th>\n",
       "      <th>dest</th>\n",
       "      <th>origin</th>\n",
       "      <th>air_time</th>\n",
       "    </tr>\n",
       "    <tr>\n",
       "      <th></th>\n",
       "      <th></th>\n",
       "      <th></th>\n",
       "      <th>median</th>\n",
       "    </tr>\n",
       "  </thead>\n",
       "  <tbody>\n",
       "    <tr>\n",
       "      <th>0</th>\n",
       "      <td>ABQ</td>\n",
       "      <td>JFK</td>\n",
       "      <td>246.0</td>\n",
       "    </tr>\n",
       "    <tr>\n",
       "      <th>1</th>\n",
       "      <td>ACK</td>\n",
       "      <td>JFK</td>\n",
       "      <td>41.0</td>\n",
       "    </tr>\n",
       "    <tr>\n",
       "      <th>2</th>\n",
       "      <td>ALB</td>\n",
       "      <td>EWR</td>\n",
       "      <td>31.0</td>\n",
       "    </tr>\n",
       "    <tr>\n",
       "      <th>3</th>\n",
       "      <td>ANC</td>\n",
       "      <td>EWR</td>\n",
       "      <td>414.5</td>\n",
       "    </tr>\n",
       "    <tr>\n",
       "      <th>4</th>\n",
       "      <td>ATL</td>\n",
       "      <td>EWR</td>\n",
       "      <td>111.0</td>\n",
       "    </tr>\n",
       "  </tbody>\n",
       "</table>\n",
       "</div>"
      ],
      "text/plain": [
       "  dest origin air_time\n",
       "                median\n",
       "0  ABQ    JFK    246.0\n",
       "1  ACK    JFK     41.0\n",
       "2  ALB    EWR     31.0\n",
       "3  ANC    EWR    414.5\n",
       "4  ATL    EWR    111.0"
      ]
     },
     "execution_count": 55,
     "metadata": {},
     "output_type": "execute_result"
    }
   ],
   "source": [
    "flights.groupby(by = ['dest', 'origin'], as_index = False).agg({'air_time' : ['median']}).head()"
   ]
  },
  {
   "cell_type": "markdown",
   "metadata": {},
   "source": [
    "In both cases, the aggregation type is median. It's calculated at dest, origin level in 1st case using pivot and second case using group by."
   ]
  }
 ],
 "metadata": {
  "kernelspec": {
   "display_name": "Python 3",
   "language": "python",
   "name": "python3"
  },
  "language_info": {
   "codemirror_mode": {
    "name": "ipython",
    "version": 3
   },
   "file_extension": ".py",
   "mimetype": "text/x-python",
   "name": "python",
   "nbconvert_exporter": "python",
   "pygments_lexer": "ipython3",
   "version": "3.7.3"
  }
 },
 "nbformat": 4,
 "nbformat_minor": 4
}
